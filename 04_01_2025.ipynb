{
 "cells": [
  {
   "cell_type": "code",
   "execution_count": 12,
   "id": "d85fdafa-de19-44f2-9693-50b20263d991",
   "metadata": {},
   "outputs": [
    {
     "data": {
      "text/plain": [
       "'\\nThis\\nis \\na \\nmulti-line \\ncomment\\n'"
      ]
     },
     "execution_count": 12,
     "metadata": {},
     "output_type": "execute_result"
    }
   ],
   "source": [
    "# This is a single line comment\n",
    "'''\n",
    "This\n",
    "is \n",
    "a \n",
    "multi-line \n",
    "comment\n",
    "'''"
   ]
  },
  {
   "cell_type": "code",
   "execution_count": 14,
   "id": "853ab911-13b7-4f9f-9cde-a44404d4e313",
   "metadata": {},
   "outputs": [
    {
     "name": "stdout",
     "output_type": "stream",
     "text": [
      "Name:  Alice\n",
      "Age:  30\n",
      "Height:  5.5\n",
      "Is Student:  True\n"
     ]
    }
   ],
   "source": [
    "name = \"Alice\" # String Variable\n",
    "age = 30 # Integer Variable\n",
    "height = 5.5 # Float Variable\n",
    "is_student = True # Boolean Variable\n",
    "print(\"Name: \",name)\n",
    "print(\"Age: \",age)\n",
    "print(\"Height: \",height)\n",
    "print(\"Is Student: \",is_student)"
   ]
  },
  {
   "cell_type": "code",
   "execution_count": 16,
   "id": "2f5cf1c2-3f99-4c38-be30-409e595da0e1",
   "metadata": {},
   "outputs": [
    {
     "name": "stdin",
     "output_type": "stream",
     "text": [
      "Enter your name:  Praveen\n"
     ]
    },
    {
     "name": "stdout",
     "output_type": "stream",
     "text": [
      "Hello,  Praveen\n"
     ]
    }
   ],
   "source": [
    "user_name = input(\"Enter your name: \")\n",
    "print(\"Hello, \",user_name)"
   ]
  },
  {
   "cell_type": "code",
   "execution_count": 18,
   "id": "ca95e239-7ccb-4f0f-b561-df6013f56901",
   "metadata": {},
   "outputs": [
    {
     "name": "stdin",
     "output_type": "stream",
     "text": [
      "Enter your age:  29\n"
     ]
    },
    {
     "name": "stdout",
     "output_type": "stream",
     "text": [
      "30\n"
     ]
    }
   ],
   "source": [
    "age = input(\"Enter your age: \")\n",
    "# print(age+1) will give error\n",
    "age = int(age)\n",
    "print(age+1)"
   ]
  }
 ],
 "metadata": {
  "kernelspec": {
   "display_name": "Python 3 (ipykernel)",
   "language": "python",
   "name": "python3"
  },
  "language_info": {
   "codemirror_mode": {
    "name": "ipython",
    "version": 3
   },
   "file_extension": ".py",
   "mimetype": "text/x-python",
   "name": "python",
   "nbconvert_exporter": "python",
   "pygments_lexer": "ipython3",
   "version": "3.12.7"
  }
 },
 "nbformat": 4,
 "nbformat_minor": 5
}
