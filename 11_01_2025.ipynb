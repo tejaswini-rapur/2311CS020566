{
  "nbformat": 4,
  "nbformat_minor": 0,
  "metadata": {
    "colab": {
      "provenance": []
    },
    "kernelspec": {
      "name": "python3",
      "display_name": "Python 3"
    },
    "language_info": {
      "name": "python"
    }
  },
  "cells": [
    {
      "cell_type": "code",
      "execution_count": 4,
      "metadata": {
        "colab": {
          "base_uri": "https://localhost:8080/"
        },
        "id": "A0mDykCXwYoe",
        "outputId": "872c4b2e-c9aa-445c-f25c-aff22b462a7b"
      },
      "outputs": [
        {
          "output_type": "stream",
          "name": "stdout",
          "text": [
            "Do\n",
            "what\n",
            "to\n"
          ]
        }
      ],
      "source": [
        "String = \"Do what I say to the world\"\n",
        "for i in String.split():\n",
        "    if len(i) % 2 ==0:\n",
        "      print(i)"
      ]
    },
    {
      "cell_type": "code",
      "source": [
        "String = \"Do what I say to the world\"\n",
        "for i in String.split():\n",
        "    if len(i) > 3:\n",
        "      print(i[0])\n"
      ],
      "metadata": {
        "colab": {
          "base_uri": "https://localhost:8080/"
        },
        "id": "cjkL0LmLzr5B",
        "outputId": "64a8bfde-98c8-447f-caca-1212a897840e"
      },
      "execution_count": 5,
      "outputs": [
        {
          "output_type": "stream",
          "name": "stdout",
          "text": [
            "w\n",
            "w\n"
          ]
        }
      ]
    },
    {
      "cell_type": "code",
      "source": [
        "a = \"Session is going to start\"\n",
        "b = []\n",
        "for i in a.split():\n",
        "  if len(i) > 3:\n",
        "    b.append(i)\n",
        "print(b)\n",
        "b = [i for i in a.split() if len(i)>3]\n",
        "print(b)"
      ],
      "metadata": {
        "colab": {
          "base_uri": "https://localhost:8080/"
        },
        "id": "jy7eeivO02kf",
        "outputId": "37d5afef-0881-4505-bbea-3d836658b421"
      },
      "execution_count": 12,
      "outputs": [
        {
          "output_type": "stream",
          "name": "stdout",
          "text": [
            "['Session', 'going', 'start']\n",
            "['Session', 'going', 'start']\n"
          ]
        }
      ]
    },
    {
      "cell_type": "code",
      "source": [
        "a = \"Session is going to start\"\n",
        "b = [i for i in a.split() if len(i)==5]\n",
        "print(b)"
      ],
      "metadata": {
        "colab": {
          "base_uri": "https://localhost:8080/"
        },
        "id": "HBPXxAeZ4ZAX",
        "outputId": "88f449f7-2fa0-40d9-cc07-2c1001d4b6d1"
      },
      "execution_count": 14,
      "outputs": [
        {
          "output_type": "stream",
          "name": "stdout",
          "text": [
            "['going', 'start']\n"
          ]
        }
      ]
    },
    {
      "cell_type": "code",
      "source": [
        "a = \"Session is going to start\"\n",
        "print(a[::-1])"
      ],
      "metadata": {
        "colab": {
          "base_uri": "https://localhost:8080/"
        },
        "id": "k1T94XeF7lXV",
        "outputId": "07e56850-f22c-4efa-ba78-bce259937045"
      },
      "execution_count": 17,
      "outputs": [
        {
          "output_type": "stream",
          "name": "stdout",
          "text": [
            "trats ot gniog si noisseS\n"
          ]
        }
      ]
    },
    {
      "cell_type": "code",
      "source": [
        "for i in range(1, 16):\n",
        "  if i % 5 == 0 and i % 3 ==  0:\n",
        "    print(\"bigg buzz\")\n",
        "  0]elif i % 3 == 0:\n",
        "    print(\"bizz\")\n",
        "  elif i % 5 == 0:\n",
        "    print(\"bigg\")\n",
        ""
      ],
      "metadata": {
        "colab": {
          "base_uri": "https://localhost:8080/"
        },
        "id": "i49VjzsO9IJy",
        "outputId": "4e46d6d7-9f10-494e-ef39-96dd9a09d07a"
      },
      "execution_count": 24,
      "outputs": [
        {
          "output_type": "stream",
          "name": "stdout",
          "text": [
            "bizz\n",
            "bigg\n",
            "bizz\n",
            "bizz\n",
            "bigg\n",
            "bizz\n",
            "bigg buzz\n"
          ]
        }
      ]
    },
    {
      "cell_type": "code",
      "source": [],
      "metadata": {
        "id": "MQDvscHY9pkE"
      },
      "execution_count": null,
      "outputs": []
    }
  ]
}