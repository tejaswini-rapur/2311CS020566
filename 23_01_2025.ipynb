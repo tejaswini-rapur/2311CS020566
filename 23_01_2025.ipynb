{
  "nbformat": 4,
  "nbformat_minor": 0,
  "metadata": {
    "colab": {
      "provenance": [],
      "authorship_tag": "ABX9TyN9jilahNFc6fPiW7WdDlOU"
    },
    "kernelspec": {
      "name": "python3",
      "display_name": "Python 3"
    },
    "language_info": {
      "name": "python"
    }
  },
  "cells": [
    {
      "cell_type": "code",
      "execution_count": 24,
      "metadata": {
        "colab": {
          "base_uri": "https://localhost:8080/"
        },
        "id": "5a81Jkw820tq",
        "outputId": "cd70a9e1-603b-4e2a-f2f7-c38d119c6957"
      },
      "outputs": [
        {
          "output_type": "stream",
          "name": "stdout",
          "text": [
            "Original DataFrame:\n",
            "   square_feet_area  Year_built  over_all_condition ready_to_move  Sale_price\n",
            "0            8500.0      2003.0                 5.0           Yes      200000\n",
            "1            9600.0      1976.0                 8.0            No      180000\n",
            "2               NaN      2001.0                 6.0            NO      215000\n",
            "3           11250.0         NaN                 7.0           NaN      250000\n",
            "4               NaN      1998.0                 NaN            No      210000\n",
            "5            9550.0      2000.0                 7.0           NaN      190000\n",
            "6           14260.0      2006.0                 8.0            No      230000\n",
            "7               NaN      1978.0                 6.0           Yes      225000\n",
            "8           13830.0      1950.0                 NaN            No      220000\n",
            "9           11500.0         NaN                 7.0           Yes      240000\n"
          ]
        }
      ],
      "source": [
        "import pandas as pd\n",
        "import numpy as np\n",
        "from sklearn.impute import SimpleImputer\n",
        "data = {\n",
        "    'square_feet_area': [8500, 9600, np.nan, 11250, np.nan, 9550, 14260, np.nan, 13830, 11500],\n",
        "    'Year_built': [2003, 1976, 2001, np.nan, 1998, 2000, 2006, 1978, 1950, np.nan],\n",
        "    'over_all_condition': [5, 8, 6, 7, np.nan, 7, 8, 6, np.nan, 7],\n",
        "    'ready_to_move': ['Yes', 'No', 'NO', np.nan, 'No', np.nan, 'No', 'Yes', 'No', 'Yes'],\n",
        "    'Sale_price': [200000, 180000, 215000, 250000, 210000, 190000, 230000, 225000, 220000, 240000]\n",
        "}\n",
        "\n",
        "df = pd.DataFrame(data)\n",
        "print(\"Original DataFrame:\")\n",
        "print(df)"
      ]
    },
    {
      "cell_type": "code",
      "source": [
        "df['square_feet_area'].fillna(df['square_feet_area'].mean(), inplace=True)\n",
        "df['Year_built'].fillna(df['Year_built'].mean(), inplace=True)\n",
        "df['over_all_condition'].fillna(df['over_all_condition'].mean(), inplace=True)\n",
        "df['ready_to_move'].fillna(df['ready_to_move'].mode()[0], inplace=True)\n",
        "print(\"\\nDataFrame after replacing missing values with mean (for numeric) and mode (for categorical columns):\")\n",
        "print(df)"
      ],
      "metadata": {
        "colab": {
          "base_uri": "https://localhost:8080/"
        },
        "id": "xKlRPZlz6O85",
        "outputId": "9b86ed90-8538-467d-e112-01eb6ad0edc3"
      },
      "execution_count": 26,
      "outputs": [
        {
          "output_type": "stream",
          "name": "stdout",
          "text": [
            "\n",
            "DataFrame after replacing missing values with mean (for numeric) and mode (for categorical columns):\n",
            "   square_feet_area  Year_built  over_all_condition ready_to_move  Sale_price\n",
            "0       8500.000000      2003.0            5.000000           Yes      200000\n",
            "1       9600.000000      1976.0            8.000000            No      180000\n",
            "2      11212.857143      2001.0            6.000000            NO      215000\n",
            "3      11250.000000      1989.0            7.000000            No      250000\n",
            "4      11212.857143      1998.0        11212.857143            No      210000\n",
            "5       9550.000000      2000.0            7.000000            No      190000\n",
            "6      14260.000000      2006.0            8.000000            No      230000\n",
            "7      11212.857143      1978.0            6.000000           Yes      225000\n",
            "8      13830.000000      1950.0        11212.857143            No      220000\n",
            "9      11500.000000      1989.0            7.000000           Yes      240000\n"
          ]
        },
        {
          "output_type": "stream",
          "name": "stderr",
          "text": [
            "<ipython-input-26-5fb8dd5e6a35>:1: FutureWarning: A value is trying to be set on a copy of a DataFrame or Series through chained assignment using an inplace method.\n",
            "The behavior will change in pandas 3.0. This inplace method will never work because the intermediate object on which we are setting values always behaves as a copy.\n",
            "\n",
            "For example, when doing 'df[col].method(value, inplace=True)', try using 'df.method({col: value}, inplace=True)' or df[col] = df[col].method(value) instead, to perform the operation inplace on the original object.\n",
            "\n",
            "\n",
            "  df['square_feet_area'].fillna(df['square_feet_area'].mean(), inplace=True)\n",
            "<ipython-input-26-5fb8dd5e6a35>:2: FutureWarning: A value is trying to be set on a copy of a DataFrame or Series through chained assignment using an inplace method.\n",
            "The behavior will change in pandas 3.0. This inplace method will never work because the intermediate object on which we are setting values always behaves as a copy.\n",
            "\n",
            "For example, when doing 'df[col].method(value, inplace=True)', try using 'df.method({col: value}, inplace=True)' or df[col] = df[col].method(value) instead, to perform the operation inplace on the original object.\n",
            "\n",
            "\n",
            "  df['Year_built'].fillna(df['Year_built'].mean(), inplace=True)\n",
            "<ipython-input-26-5fb8dd5e6a35>:3: FutureWarning: A value is trying to be set on a copy of a DataFrame or Series through chained assignment using an inplace method.\n",
            "The behavior will change in pandas 3.0. This inplace method will never work because the intermediate object on which we are setting values always behaves as a copy.\n",
            "\n",
            "For example, when doing 'df[col].method(value, inplace=True)', try using 'df.method({col: value}, inplace=True)' or df[col] = df[col].method(value) instead, to perform the operation inplace on the original object.\n",
            "\n",
            "\n",
            "  df['over_all_condition'].fillna(df['over_all_condition'].mean(), inplace=True)\n"
          ]
        }
      ]
    },
    {
      "cell_type": "code",
      "source": [
        "numeric_imputer = SimpleImputer(strategy='mean')\n",
        "df[['square_feet_area', 'Year_built', 'over_all_condition']] = numeric_imputer.fit_transform(df[['square_feet_area', 'Year_built', 'over_all_condition']])\n",
        "\n",
        "categorical_imputer = SimpleImputer(strategy='most_frequent')\n",
        "df[['ready_to_move']] = categorical_imputer.fit_transform(df[['ready_to_move']])\n",
        "\n",
        "print(\"\\nDataFrame after replacing missing values with SimpleImputer (mean for numeric, mode for categorical):\")\n",
        "print(df)"
      ],
      "metadata": {
        "colab": {
          "base_uri": "https://localhost:8080/"
        },
        "id": "olSWy4wP7ARx",
        "outputId": "79fea15c-a869-4e6e-d2c9-c4c9130b2112"
      },
      "execution_count": 20,
      "outputs": [
        {
          "output_type": "stream",
          "name": "stdout",
          "text": [
            "\n",
            "DataFrame after replacing missing values with SimpleImputer (mean for numeric, mode for categorical):\n",
            "   square_feet_area  Year_built  over_all_condition ready_to_move  Sale_price\n",
            "0       8500.000000      2003.0                5.00           Yes      200000\n",
            "1       9600.000000      1976.0                8.00            No      180000\n",
            "2      11212.857143      2001.0                6.00            NO      215000\n",
            "3      11250.000000      1989.0                7.00            No      250000\n",
            "4      11212.857143      1998.0                6.75            No      210000\n",
            "5       9550.000000      2000.0                7.00            No      190000\n",
            "6      14260.000000      2006.0                8.00            No      230000\n",
            "7      11212.857143      1978.0                6.00           Yes      225000\n",
            "8      13830.000000      1950.0                6.75            No      220000\n",
            "9      11500.000000      1989.0                7.00           Yes      240000\n"
          ]
        }
      ]
    }
  ]
}