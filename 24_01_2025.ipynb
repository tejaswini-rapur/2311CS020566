{
  "nbformat": 4,
  "nbformat_minor": 0,
  "metadata": {
    "colab": {
      "provenance": [],
      "authorship_tag": "ABX9TyNsXzUYgRFVdql1oc0TlnmT",
      "include_colab_link": true
    },
    "kernelspec": {
      "name": "python3",
      "display_name": "Python 3"
    },
    "language_info": {
      "name": "python"
    }
  },
  "cells": [
    {
      "cell_type": "markdown",
      "metadata": {
        "id": "view-in-github",
        "colab_type": "text"
      },
      "source": [
        "<a href=\"https://colab.research.google.com/github/PranayTadakamalla/_Python_Examples_/blob/main/24_01_2025.ipynb\" target=\"_parent\"><img src=\"https://colab.research.google.com/assets/colab-badge.svg\" alt=\"Open In Colab\"/></a>"
      ]
    },
    {
      "cell_type": "code",
      "execution_count": 2,
      "metadata": {
        "colab": {
          "base_uri": "https://localhost:8080/"
        },
        "id": "Au4h8gYeulMN",
        "outputId": "e3440cfd-5c8f-47df-e6a5-49c4f2099c98"
      },
      "outputs": [
        {
          "output_type": "stream",
          "name": "stdout",
          "text": [
            "\n",
            "Find maxium, minimum, median, first quartile, third quartile for the give data set: 23,42,12,10,15,14,9\n",
            "solution:\n",
            "Given: 23,42,12,10,15,14,9\n",
            "Arrange the givent dataset in ascending order\n",
            "9,10,12,14,15,23,42\n",
            "Hence,\n",
            "Minimum = 9\n",
            "Maximum = 42\n",
            "Median = 14\n",
            "First Quartile Q1 = 10 (Middle Value of 9,10,12 is 10)\n",
            "Third Quartile Q2 = 23 (Middle Value of 15,23,42 is 23)\n",
            "\n"
          ]
        }
      ],
      "source": [
        "print('''\n",
        "Find maxium, minimum, median, first quartile, third quartile for the give data set: 23,42,12,10,15,14,9\n",
        "solution:\n",
        "Given: 23,42,12,10,15,14,9\n",
        "Arrange the givent dataset in ascending order\n",
        "9,10,12,14,15,23,42\n",
        "Hence,\n",
        "Minimum = 9\n",
        "Maximum = 42\n",
        "Median = 14\n",
        "First Quartile Q1 = 10 (Middle Value of 9,10,12 is 10)\n",
        "Third Quartile Q2 = 23 (Middle Value of 15,23,42 is 23)\n",
        "''')"
      ]
    },
    {
      "cell_type": "code",
      "source": [
        "import numpy as np\n",
        "import pandas as pd\n",
        "\n",
        "np.random.seed(10)\n",
        "data = pd.DataFrame({'value': np.concatenate([np.random.normal(0, 10, 5000), np.random.normal(10, 1, 100)])})\n",
        "Q1 = data['value'].quantile(0.25)\n",
        "Q3 = data['value'].quantile(0.75)\n",
        "IQR = Q3 - Q1\n",
        "lower_bound = Q1 - 1.5 * IQR\n",
        "upper_bound = Q3 + 1.5 * IQR\n",
        "outliers = data[(data['value'] < lower_bound) | (data['value'] > upper_bound)]\n",
        "print(\"Outliers: \",outliers)"
      ],
      "metadata": {
        "colab": {
          "base_uri": "https://localhost:8080/"
        },
        "id": "eIXKmAbT01k2",
        "outputId": "e00232fb-74be-44dd-ce8d-570aa0f08666"
      },
      "execution_count": 16,
      "outputs": [
        {
          "output_type": "stream",
          "name": "stdout",
          "text": [
            "Outliers:            value\n",
            "159  -29.795968\n",
            "412  -32.044013\n",
            "590  -28.160012\n",
            "814  -28.150613\n",
            "1036 -33.176691\n",
            "1223  27.931658\n",
            "1558 -31.126449\n",
            "2190  36.091607\n",
            "2404  28.195220\n",
            "2529 -28.055157\n",
            "2565 -27.619559\n",
            "2601 -28.623817\n",
            "2679 -28.294679\n",
            "3083 -27.351311\n",
            "3318  29.470987\n",
            "3627 -27.526232\n",
            "3818 -27.956149\n",
            "3948  34.548450\n",
            "3952 -27.873396\n",
            "4461  29.991898\n",
            "4744  29.253242\n",
            "4830 -28.317780\n",
            "4872 -28.210585\n",
            "4912 -33.723470\n"
          ]
        }
      ]
    },
    {
      "cell_type": "code",
      "source": [
        "data = pd.DataFrame({'value': [1, 2, 3, 5, 8, 900, 11, 60]})\n",
        "\n",
        "Q1 = data['value'].quantile(0.25)\n",
        "Q3 = data['value'].quantile(0.75)\n",
        "IQR = Q3 - Q1\n",
        "lower_bound = Q1 - 1.5 * IQR\n",
        "upper_bound = Q3 + 1.5 * IQR\n",
        "outliers = data[(data['value'] < lower_bound) | (data['value'] > upper_bound)]\n",
        "\n",
        "print(\"Outliers:\", outliers)"
      ],
      "metadata": {
        "colab": {
          "base_uri": "https://localhost:8080/"
        },
        "id": "fEXroa773KGt",
        "outputId": "dcd8aeef-8388-4653-f494-dc49b9697a35"
      },
      "execution_count": 20,
      "outputs": [
        {
          "output_type": "stream",
          "name": "stdout",
          "text": [
            "Outliers:    value\n",
            "5    900\n",
            "7     60\n"
          ]
        }
      ]
    },
    {
      "cell_type": "code",
      "source": [
        "import matplotlib.pyplot as plt\n",
        "\n",
        "plt.figure(figsize=(8, 6))\n",
        "plt.boxplot(data['value'], vert=True)\n",
        "plt.title('Box Plot of Values')\n",
        "plt.xlabel('Value')\n",
        "plt.show()\n"
      ],
      "metadata": {
        "colab": {
          "base_uri": "https://localhost:8080/",
          "height": 564
        },
        "id": "uxfvcKn67RcB",
        "outputId": "22423539-3844-4b7a-db15-32ba56785940"
      },
      "execution_count": 22,
      "outputs": [
        {
          "output_type": "display_data",
          "data": {
            "text/plain": [
              "<Figure size 800x600 with 1 Axes>"
            ],
            "image/png": "[encoded data removed]"
          },
          "metadata": {}
        }
      ]
    }
  ]
}